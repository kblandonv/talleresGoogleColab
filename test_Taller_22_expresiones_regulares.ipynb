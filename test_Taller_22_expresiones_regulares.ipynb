# Test case 1: No phone numbers in the text
texto = "This is a sample text without any phone numbers."
expected_output = []
assert extraer_numeros_telefono(texto) == expected_output

# Test case 2: Single phone number in the text
texto = "Please call 123-456-7890 for assistance."
expected_output = ['123-456-7890']
assert extraer_numeros_telefono(texto) == expected_output

# Test case 3: Multiple phone numbers in the text
texto = "Contact us at 123-456-7890 or 987-654-3210 for more information."
expected_output = ['123-456-7890', '987-654-3210']
assert extraer_numeros_telefono(texto) == expected_output

# Test case 4: Phone numbers with other characters
texto = "Call 123-456-7890 or (987)654-3210 for assistance."
expected_output = ['123-456-7890', '987-654-3210']
assert extraer_numeros_telefono(texto) == expected_output

# Test case 5: Phone numbers with leading/trailing spaces
texto = "Contact us at  123-456-7890  or 987-654-3210  for more information."
expected_output = ['123-456-7890', '987-654-3210']
assert extraer_numeros_telefono(texto) == expected_output# Test case 1: Valid email address
correo = "test@example.com"
expected_output = True
assert validar_correo(correo) == expected_output

# Test case 2: Invalid email address - missing @ symbol
correo = "testexample.com"
expected_output = False
assert validar_correo(correo) == expected_output

# Test case 3: Invalid email address - missing domain extension
correo = "test@example"
expected_output = False
assert validar_correo(correo) == expected_output

# Test case 4: Invalid email address - invalid characters in username
correo = "test!@example.com"
expected_output = False
assert validar_correo(correo) == expected_output

# Test case 5: Invalid email address - invalid characters in domain name
correo = "test@example!.com"
expected_output = False
assert validar_correo(correo) == expected_output# Test case 1: Minimum length requirement not met
contrasena = "Abc123!"
expected_output = False
assert validar_contrasena(contrasena) == expected_output

# Test case 2: No uppercase letter
contrasena = "abc123!@"
expected_output = False
assert validar_contrasena(contrasena) == expected_output

# Test case 3: No lowercase letter
contrasena = "ABC123!@"
expected_output = False
assert validar_contrasena(contrasena) == expected_output

# Test case 4: No number
contrasena = "Abcdefg!"
expected_output = False
assert validar_contrasena(contrasena) == expected_output

# Test case 5: No special character
contrasena = "Abc12345"
expected_output = False
assert validar_contrasena(contrasena) == expected_output

# Test case 6: Valid password
contrasena = "Abc123!@"
expected_output = True
assert validar_contrasena(contrasena) == expected_output# Test case 1: No URLs in the text
texto = "This is a sample text without any URLs."
expected_output = []
assert extraer_urls(texto) == expected_output

# Test case 2: Single URL in the text
texto = "Please visit https://www.example.com for more information."
expected_output = ['https://www.example.com']
assert extraer_urls(texto) == expected_output

# Test case 3: Multiple URLs in the text
texto = "Visit https://www.example.com or http://www.google.com for more information."
expected_output = ['https://www.example.com', 'http://www.google.com']
assert extraer_urls(texto) == expected_output

# Test case 4: URLs with other characters
texto = "Visit https://www.example.com or (http://www.google.com) for more information."
expected_output = ['https://www.example.com', 'http://www.google.com']
assert extraer_urls(texto) == expected_output

# Test case 5: URLs with leading/trailing spaces
texto = "Visit  https://www.example.com  or  http://www.google.com  for more information."
expected_output = ['https://www.example.com', 'http://www.google.com']
assert extraer_urls(texto) == expected_output# Test case 1: Word appears multiple times in the text
texto = "This is a sample text with multiple occurrences of the word test. Test, test, and TEST."
palabra_buscada = "test"
expected_output = 4
assert contar_palabra(texto, palabra_buscada) == expected_output

# Test case 2: Word appears once in the text
texto = "This is a sample text with one occurrence of the word example."
palabra_buscada = "example"
expected_output = 1
assert contar_palabra(texto, palabra_buscada) == expected_output

# Test case 3: Word does not appear in the text
texto = "This is a sample text without the word missing."
palabra_buscada = "missing"
expected_output = 0
assert contar_palabra(texto, palabra_buscada) == expected_output

# Test case 4: Word appears with different capitalization in the text
texto = "This is a sample text with different capitalization of the word Test."
palabra_buscada = "test"
expected_output = 1
assert contar_palabra(texto, palabra_buscada) == expected_output

# Test case 5: Word appears with leading/trailing spaces in the text
texto = "This is a sample text with leading and trailing spaces around the word space."
palabra_buscada = "space"
expected_output = 1
assert contar_palabra(texto, palabra_buscada) == expected_output# Test case 1: Word appears multiple times in the text
texto = "This is a sample text with multiple occurrences of the word test. Test, test, and TEST."
palabra_buscada = "test"
palabra_reemplazo = "example"
expected_output = "This is a sample text with multiple occurrences of the word example. Example, example, and EXAMPLE."
assert reemplazar_palabra(texto, palabra_buscada, palabra_reemplazo) == expected_output

# Test case 2: Word appears once in the text
texto = "This is a sample text with one occurrence of the word example."
palabra_buscada = "example"
palabra_reemplazo = "test"
expected_output = "This is a sample text with one occurrence of the word test."
assert reemplazar_palabra(texto, palabra_buscada, palabra_reemplazo) == expected_output

# Test case 3: Word does not appear in the text
texto = "This is a sample text without the word missing."
palabra_buscada = "example"
palabra_reemplazo = "test"
expected_output = "This is a sample text without the word missing."
assert reemplazar_palabra(texto, palabra_buscada, palabra_reemplazo) == expected_output

# Test case 4: Word appears with different capitalization in the text
texto = "This is a sample text with different capitalization of the word Test."
palabra_buscada = "test"
palabra_reemplazo = "example"
expected_output = "This is a sample text with different capitalization of the word Example."
assert reemplazar_palabra(texto, palabra_buscada, palabra_reemplazo) == expected_output

# Test case 5: Word appears with leading/trailing spaces in the text
texto = "This is a sample text with leading and trailing spaces around the word space."
palabra_buscada = "space"
palabra_reemplazo = "example"
expected_output = "This is a sample text with leading and trailing spaces around the word example."
assert reemplazar_palabra(texto, palabra_buscada, palabra_reemplazo) == expected_output# Test case 1: Valid postal code
codigo_postal = "12345"
expected_output = True
assert validar_codigo_postal(codigo_postal) == expected_output

# Test case 2: Valid postal code with extension
codigo_postal = "12345-6789"
expected_output = True
assert validar_codigo_postal(codigo_postal) == expected_output

# Test case 3: Invalid postal code - missing digits
codigo_postal = "1234"
expected_output = False
assert validar_codigo_postal(codigo_postal) == expected_output

# Test case 4: Invalid postal code - invalid format
codigo_postal = "12345-67890"
expected_output = False
assert validar_codigo_postal(codigo_postal) == expected_output

# Test case 5: Invalid postal code - invalid characters
codigo_postal = "12a45"
expected_output = False
assert validar_codigo_postal(codigo_postal) == expected_output# Test case 1: No IP addresses in the text
texto = "This is a sample text without any IP addresses."
expected_output = []
assert extraer_direcciones_ip(texto) == expected_output

# Test case 2: Single IP address in the text
texto = "Please connect to 192.168.0.1 for assistance."
expected_output = ['192.168.0.1']
assert extraer_direcciones_ip(texto) == expected_output

# Test case 3: Multiple IP addresses in the text
texto = "Connect to 192.168.0.1 or 10.0.0.1 for more information."
expected_output = ['192.168.0.1', '10.0.0.1']
assert extraer_direcciones_ip(texto) == expected_output

# Test case 4: IP addresses with other characters
texto = "Connect to 192.168.0.1 or (10.0.0.1) for assistance."
expected_output = ['192.168.0.1', '10.0.0.1']
assert extraer_direcciones_ip(texto) == expected_output

# Test case 5: IP addresses with leading/trailing spaces
texto = "Connect to  192.168.0.1  or  10.0.0.1  for more information."
expected_output = ['192.168.0.1', '10.0.0.1']
assert extraer_direcciones_ip(texto) == expected_output# Test case 1: No hashtags in the text
texto = "This is a sample text without any hashtags."
expected_output = []
assert extraer_hashtags(texto) == expected_output

# Test case 2: Single hashtag in the text
texto = "Please use #python for coding."
expected_output = ['#python']
assert extraer_hashtags(texto) == expected_output

# Test case 3: Multiple hashtags in the text
texto = "Use #python and #programming for coding."
expected_output = ['#python', '#programming']
assert extraer_hashtags(texto) == expected_output

# Test case 4: Hashtags with numbers and underscores
texto = "Use #python_3 and #programming_101 for coding."
expected_output = ['#python_3', '#programming_101']
assert extraer_hashtags(texto) == expected_output

# Test case 5: Hashtags with leading/trailing spaces
texto = "Use  #python  and  #programming  for coding."
expected_output = ['#python', '#programming']
assert extraer_hashtags(texto) == expected_output