{
  "cells": [
    {
      "cell_type": "markdown",
      "metadata": {
        "colab_type": "text",
        "id": "view-in-github"
      },
      "source": [
        "<a href=\"https://colab.research.google.com/github/gabrielawad/talleresGoogleColab/blob/main/Taller_22_expresiones_regulares.ipynb\" target=\"_parent\"><img src=\"https://colab.research.google.com/assets/colab-badge.svg\" alt=\"Open In Colab\"/></a>"
      ]
    },
    {
      "cell_type": "markdown",
      "metadata": {
        "id": "cr-wZpWhC2dt"
      },
      "source": [
        "## «*He aprendido a no intentar convencer a nadie. El trabajo de convencer es una falta de respeto, es un intento de colonización del otro*».\n",
        "### [José Saramago](https://es.wikipedia.org/wiki/Jos%C3%A9_Saramago)"
      ]
    },
    {
      "cell_type": "markdown",
      "metadata": {
        "id": "tpFFfpLa7D_R"
      },
      "source": [
        "# Taller 22 expresiones regulares en Python\n",
        "\n",
        "Los objetivos de este taller son:\n",
        "\n",
        "* Comprender qué son las expresiones regulares y su importancia en el procesamiento de texto.\n",
        "\n",
        "* Aprender la sintaxis básica de las expresiones regulares en Python.\n",
        "\n",
        "* Practicar la aplicación de expresiones regulares en la manipulación y búsqueda de texto.\n",
        "\n",
        "* Familiarizarse con herramientas y recursos para trabajar eficientemente con expresiones regulares."
      ]
    },
    {
      "cell_type": "markdown",
      "metadata": {
        "id": "Q1cx54I9GtOj"
      },
      "source": [
        "## Definición y conceptos básicos\n",
        "\n",
        "Las **expresiones regulares** (*regex* o *regexp*) son secuencias de caracteres que definen un patrón de búsqueda.\n",
        "\n",
        "Estos patrones se utilizan para encontrar cadenas de texto que coincidan con ciertos criterios dentro de un texto más grande.\n",
        "\n",
        "Los patrones de búsqueda pueden incluir caracteres literales (como letras y números) y metacaracteres (que representan clases de caracteres, repeticiones, posiciones en el texto, y otros más)."
      ]
    },
    {
      "cell_type": "markdown",
      "metadata": {
        "id": "A9nrBZ68QOe3"
      },
      "source": [
        "## Información adicional y herramientas online para trabajar con expresiones regulares\n",
        "\n",
        "Información adicional:\n",
        "\n",
        "[W3Schools](https://www.w3schools.com/python/python_regex.asp)\n",
        "\n",
        "Herramientas online:\n",
        "\n",
        "* [Regex101](https://regex101.com/)\n",
        "* [Regexr](https://regexr.com/)"
      ]
    },
    {
      "cell_type": "markdown",
      "metadata": {
        "id": "iKHsn1KcZibB"
      },
      "source": [
        "# Sintaxis básica de las expresiones regulares en Python"
      ]
    },
    {
      "cell_type": "markdown",
      "metadata": {
        "id": "tcByS5IlZmVA"
      },
      "source": [
        "## Caracteres literales y metacaracteres\n",
        "\n",
        "Los caracteres literales representan sus mismos valores en una expresión regular.\n",
        "\n",
        "Caracteres literales: a, b, 123, y similares.\n",
        "\n",
        "Los metacaracteres son caracteres con un significado especial en expresiones regulares.\n",
        "\n",
        "Metacaracteres: cualquier carácter (excepto nueva línea), * (0 o más repeticiones), + (1 o más repeticiones), ? (0 o 1 repetición).\n"
      ]
    },
    {
      "cell_type": "code",
      "execution_count": 1,
      "metadata": {
        "colab": {
          "base_uri": "https://localhost:8080/"
        },
        "id": "HS7nRQ0NaLPX",
        "outputId": "b74321db-3706-4f99-e91d-4c327be7f22e"
      },
      "outputs": [
        {
          "name": "stdout",
          "output_type": "stream",
          "text": [
            "['es']\n",
            "['Python']\n"
          ]
        }
      ],
      "source": [
        "# Importar la librería requerida\n",
        "import re\n",
        "\n",
        "# Crear una cadena de texto de referencia\n",
        "texto = \"Python es genial!\"\n",
        "\n",
        "# Ejemplo de caracteres literales\n",
        "# 'es' coincide con los caracteres literales 'es'\n",
        "coincidencias_0 = re.findall(r'es', texto)\n",
        "\n",
        "# Resultado: ['es']\n",
        "print(coincidencias_0)\n",
        "\n",
        "# Ejemplo de metacaracteres\n",
        "# \\w+ coincide con una o más ocurrencias de cualquier carácter alfanumérico\n",
        "coincidencias_1 = re.findall(r'Py\\w+n', texto)\n",
        "\n",
        "# Resultado: ['Python']\n",
        "print(coincidencias_1)"
      ]
    },
    {
      "cell_type": "markdown",
      "metadata": {
        "id": "TmFK29cJGEbr"
      },
      "source": [
        "## Clases de caracteres y cuantificadores:\n",
        "\n",
        "Las clases de caracteres permiten especificar un conjunto de caracteres que coinciden con uno cualquiera de ellos.\n",
        "\n",
        "Los cuantificadores se utilizan para especificar la cantidad de veces que se debe repetir un carácter o un conjunto de caracteres.\n",
        "\n",
        "Ejemplo:\n",
        "\n",
        "Clases de caracteres:\n",
        "* [A-Z] (cualquier letra mayúscula)\n",
        "* [a-z] (cualquier letra minúscula)\n",
        "* [0-9] (cualquier dígito\n",
        "* [aeiou] (cualquier vocal)\n",
        "\n",
        "Cuantificadores:\n",
        "* {m} (exactamente m repeticiones)\n",
        "* {m, n} (entre m y n repeticiones)\n",
        "* {m,} (al menos m repeticiones)\n",
        "* {,n} (hasta n repeticiones)"
      ]
    },
    {
      "cell_type": "code",
      "execution_count": 9,
      "metadata": {
        "colab": {
          "base_uri": "https://localhost:8080/"
        },
        "id": "TWXOJH2PHTJE",
        "outputId": "422469bb-9281-4743-bfec-a60f30243603"
      },
      "outputs": [
        {
          "name": "stdout",
          "output_type": "stream",
          "text": [
            "['123456']\n"
          ]
        }
      ],
      "source": [
        "# Importar la librería requerida\n",
        "import re\n",
        "\n",
        "# Ejemplo de clases de caracteres y cuantificadores\n",
        "texto = \"La contraseña es 123456\"\n",
        "\n",
        "# Coincide con exactamente seis dígitos\n",
        "coincidencias_2 = re.findall(r'\\d{6}', texto)\n",
        "\n",
        "# Resultado: ['123456']\n",
        "print(coincidencias_2)"
      ]
    },
    {
      "cell_type": "markdown",
      "metadata": {
        "id": "1EDPIR4GIBGd"
      },
      "source": [
        "## Grupos de captura y grupos sin captura:\n",
        "\n",
        "Los grupos de captura permiten extraer partes específicas de una cadena coincidente.\n",
        "\n",
        "Los grupos sin captura agrupan subexpresiones sin realizar capturas.\n",
        "\n",
        "Ejemplo:\n",
        "\n",
        "Grupo de captura:\n",
        "* (\\w+) (captura una palabra)\n",
        "* (\\d{3}) (captura un número de tres dígitos)\n",
        "\n",
        "Grupo sin captura:\n",
        "* (?:\\w+) (agrupa una palabra sin captura)\n",
        "* (?:\\d{3}) (agrupa un número de tres dígitos sin captura)"
      ]
    },
    {
      "cell_type": "code",
      "execution_count": 15,
      "metadata": {
        "colab": {
          "base_uri": "https://localhost:8080/"
        },
        "id": "yyofobvPH7Cj",
        "outputId": "9e613807-25ee-4291-daeb-160f7ba717f3"
      },
      "outputs": [
        {
          "name": "stdout",
          "output_type": "stream",
          "text": [
            "[('555', '1234567')]\n",
            "['ejemplo']\n"
          ]
        }
      ],
      "source": [
        "# Importar la librería requerida\n",
        "import re\n",
        "\n",
        "# Ejemplo de grupos con captura\n",
        "numero_telefono = \"El número de teléfono es 555-1234567\"\n",
        "\n",
        "# Dos grupos de captura para el código de área y el número\n",
        "patron_0 = r'(\\d{3})-(\\d{7})'\n",
        "\n",
        "# Encontrar todas las coincidencias\n",
        "coincidencias_3 = re.findall(patron_0, numero_telefono)\n",
        "\n",
        "# Resultado: [('555', '1234567')]\n",
        "print(coincidencias_3)\n",
        "\n",
        "# Ejemplo de grupos sin captura\n",
        "texto = \"Este es un ejemplo de expresión regular\"\n",
        "\n",
        "# Grupo sin captura para \"un\" seguido de una palabra\n",
        "patron_1 = r'(?:un\\s)(\\w+)'\n",
        "\n",
        "# Encontrar todas las coincidencias\n",
        "coincidencias_4 = re.findall(patron_1, texto)\n",
        "\n",
        "# Resultado: ['ejemplo']\n",
        "print(coincidencias_4)"
      ]
    },
    {
      "cell_type": "markdown",
      "metadata": {
        "id": "JPT0g79GKJBD"
      },
      "source": [
        "## Uso de caracteres especiales como \\b, ^, $,\n",
        "\n",
        "Los caracteres especiales tienen un significado especial en expresiones regulares y se utilizan para representar ciertas posiciones en el texto, como el inicio o el final de una línea, límites de palabra.\n",
        "\n",
        "Ejemplo:\n",
        "\n",
        "* ^: coincide con el inicio de una cadena o línea.\n",
        "* $: coincide con el final de una cadena o línea.\n",
        "* \\b: límite de palabra"
      ]
    },
    {
      "cell_type": "code",
      "execution_count": 16,
      "metadata": {
        "colab": {
          "base_uri": "https://localhost:8080/"
        },
        "id": "nYUMQ8KbJTU5",
        "outputId": "7c127fe2-4767-4717-da7b-fe5e92b075af"
      },
      "outputs": [
        {
          "name": "stdout",
          "output_type": "stream",
          "text": [
            "Coincidencias al inicio: ['Python']\n",
            "Coincidencias al final: ['poderoso']\n",
            "Coincidencias de palabra completa: ['Python', 'Python']\n"
          ]
        }
      ],
      "source": [
        "# Importar la librería requerida\n",
        "import re\n",
        "\n",
        "# Ejemplo de uso de caracteres especiales:\n",
        "texto = \"Python es un lenguaje de programación. Python es poderoso\"\n",
        "\n",
        "# Coincide solo si la cadena comienza con 'Python'\n",
        "patron_inicio = r'^Python'\n",
        "\n",
        "# Coincide solo si la cadena termina con 'poderoso'\n",
        "patron_final = r'poderoso$'\n",
        "\n",
        " # Coincide solo con la palabra 'Python' como una palabra completa\n",
        "patron_palabra = r'\\bPython\\b'\n",
        "\n",
        "# Buscar el inicio de la cadena\n",
        "inicio = re.findall(patron_inicio, texto)\n",
        "print(\"Coincidencias al inicio:\", inicio)\n",
        "\n",
        "# Buscar el final de la cadena\n",
        "final = re.findall(patron_final, texto)\n",
        "print(\"Coincidencias al final:\", final)\n",
        "\n",
        "# Buscar la palabra 'Python' como una palabra completa\n",
        "palabra = re.findall(patron_palabra, texto)\n",
        "print(\"Coincidencias de palabra completa:\", palabra)"
      ]
    },
    {
      "cell_type": "markdown",
      "metadata": {
        "id": "JwUkS4dsMPlw"
      },
      "source": [
        "# Librería *re*\n",
        "\n",
        "La librería ***re*** de Python proporciona funciones para trabajar con expresiones regulares."
      ]
    },
    {
      "cell_type": "markdown",
      "metadata": {
        "id": "4sO1OSPjND-E"
      },
      "source": [
        "## re.match(patrón, cadena)\n",
        "\n",
        "Esta función intenta hacer coincidir el patrón especificado al principio de la cadena. Si hay una coincidencia, devuelve un objeto de coincidencia; de lo contrario, devuelve *None*."
      ]
    },
    {
      "cell_type": "code",
      "execution_count": 17,
      "metadata": {
        "colab": {
          "base_uri": "https://localhost:8080/"
        },
        "id": "Uki6CgL5Nzvu",
        "outputId": "840aabbd-abc9-4ad0-9de5-815ab37ac42e"
      },
      "outputs": [
        {
          "name": "stdout",
          "output_type": "stream",
          "text": [
            "Se encontró una coincidencia: Python\n"
          ]
        }
      ],
      "source": [
        "# Importar la librería requerida\n",
        "import re\n",
        "\n",
        "# Crear una cadena de texto de referencia\n",
        "cadena = \"Python es un lenguaje de programación\"\n",
        "\n",
        "# Crear un patrón de referencia\n",
        "patrón = r'Python'\n",
        "\n",
        "# Buscar el patrón en la cadena\n",
        "resultado = re.match(patrón, cadena)\n",
        "\n",
        "# Mostrar el resultado\n",
        "if resultado:\n",
        "    print(\"Se encontró una coincidencia:\", resultado.group())\n",
        "else:\n",
        "    print(\"No se encontró ninguna coincidencia\")"
      ]
    },
    {
      "cell_type": "markdown",
      "metadata": {
        "id": "6BaRIh47OFWe"
      },
      "source": [
        "## re.search(patrón, cadena)\n",
        "\n",
        "Esta función busca en toda la cadena una coincidencia con el patrón especificado. Si se encuentra una coincidencia, devuelve **un** objeto de coincidencia; de lo contrario, devuelve *None*."
      ]
    },
    {
      "cell_type": "code",
      "execution_count": 18,
      "metadata": {
        "colab": {
          "base_uri": "https://localhost:8080/"
        },
        "id": "yXoBWMeHOQ4N",
        "outputId": "835b12c7-b6cd-4395-a436-a29107a40bc8"
      },
      "outputs": [
        {
          "name": "stdout",
          "output_type": "stream",
          "text": [
            "Se encontró una coincidencia: lenguaje\n"
          ]
        }
      ],
      "source": [
        "# Importar la librería requerida\n",
        "import re\n",
        "\n",
        "# Crear una cadena de texto de referencia\n",
        "cadena = \"Python es un lenguaje de programación\"\n",
        "\n",
        "# Crear un patrón de referencia\n",
        "patrón = r'lenguaje'\n",
        "\n",
        "# Buscar el patrón en la cadena\n",
        "resultado = re.search(patrón, cadena)\n",
        "\n",
        "# Mostrar el resultado\n",
        "if resultado:\n",
        "    print(\"Se encontró una coincidencia:\", resultado.group())\n",
        "else:\n",
        "    print(\"No se encontró ninguna coincidencia\")"
      ]
    },
    {
      "cell_type": "markdown",
      "metadata": {
        "id": "69-AHNLbOsH3"
      },
      "source": [
        "## re.findall(patrón, cadena)\n",
        "\n",
        "Esta función encuentra todas las coincidencias del patrón en la cadena y devuelve **una lista** de todas las coincidencias."
      ]
    },
    {
      "cell_type": "code",
      "execution_count": 19,
      "metadata": {
        "colab": {
          "base_uri": "https://localhost:8080/"
        },
        "id": "AlDoSIYhO14x",
        "outputId": "8bcbff10-174b-4ad9-b0c0-5aa87b057dfe"
      },
      "outputs": [
        {
          "name": "stdout",
          "output_type": "stream",
          "text": [
            "Coincidencias encontradas: ['Python', 'Python']\n"
          ]
        }
      ],
      "source": [
        "# Importar la librería requerida\n",
        "import re\n",
        "\n",
        "# Crear una cadena de texto de referencia\n",
        "cadena = \"Python es un lenguaje de programación. Python es poderoso\"\n",
        "\n",
        "# Crear un patrón de referencia\n",
        "patrón = r'Python'\n",
        "\n",
        "# Buscar el patrón en la cadena\n",
        "resultado = re.findall(patrón, cadena)\n",
        "\n",
        "# Mostrar el resultado\n",
        "print(\"Coincidencias encontradas:\", resultado)"
      ]
    },
    {
      "cell_type": "markdown",
      "metadata": {
        "id": "COsr98cSPDyv"
      },
      "source": [
        "## re.sub(patrón, reemplazo, cadena)\n",
        "\n",
        "Esta función busca todas las coincidencias del patrón en la cadena y las **reemplaza** con el texto especificado en el argumento de reemplazo."
      ]
    },
    {
      "cell_type": "code",
      "execution_count": 21,
      "metadata": {
        "colab": {
          "base_uri": "https://localhost:8080/"
        },
        "id": "LhDHY3pNPM-e",
        "outputId": "211212d5-57cb-43d0-a354-81b7e10ecc46"
      },
      "outputs": [
        {
          "name": "stdout",
          "output_type": "stream",
          "text": [
            "Cadena modificada: Python es un idioma de programación\n"
          ]
        }
      ],
      "source": [
        "# Importar la librería requerida\n",
        "import re\n",
        "\n",
        "# Crear una cadena de texto de referencia\n",
        "cadena = \"Python es un lenguaje de programación\"\n",
        "\n",
        "# Crear un patrón de referencia\n",
        "patrón = r'lenguaje'\n",
        "\n",
        "# Reemplazar el patrón en la cadena\n",
        "reemplazo = \"idioma\"\n",
        "\n",
        "# Buscar el patrón en la cadena\n",
        "resultado = re.sub(patrón, reemplazo, cadena)\n",
        "\n",
        "# Mostrar el resultado\n",
        "print(\"Cadena modificada:\", resultado)"
      ]
    },
    {
      "cell_type": "markdown",
      "metadata": {
        "id": "y9xh-61jW8AC"
      },
      "source": [
        "## Ejemplos de usos de expresiones regulares"
      ]
    },
    {
      "cell_type": "markdown",
      "metadata": {
        "id": "F9aX3QkHXCfE"
      },
      "source": [
        "### Validación de formatos de datos\n",
        "\n",
        "Verificación de números de teléfono, direcciones de correo electrónico, códigos postales."
      ]
    },
    {
      "cell_type": "code",
      "execution_count": 23,
      "metadata": {
        "colab": {
          "base_uri": "https://localhost:8080/"
        },
        "id": "NRZ3Zb4sX8ym",
        "outputId": "2f8650e4-7aa5-44d7-8469-b07aab1980ad"
      },
      "outputs": [
        {
          "name": "stdout",
          "output_type": "stream",
          "text": [
            "Números de teléfono encontrados: ['123-456-7890', '555-123-4567']\n",
            "Direcciones de correo electrónico encontradas: ['ejemplo@gmail.com', 'otroejemplo@hotmail.com']\n",
            "Códigos postales encontrados: ['12345']\n"
          ]
        }
      ],
      "source": [
        "# Importar la librería requerida\n",
        "import re\n",
        "\n",
        "def verificar_texto(texto):\n",
        "    \"\"\"Verifica la presencia de números de teléfono, direcciones de correo\n",
        "    electrónico y códigos postales en un texto.\n",
        "\n",
        "    Args:\n",
        "        texto (str): El texto en el que se buscarán los patrones.\n",
        "\n",
        "    Returns:\n",
        "        tuple: Una tupla que contiene listas de números de teléfono,\n",
        "        direcciones de correo electrónico  códigos postales encontrados en el\n",
        "        texto, respectivamente.\n",
        "    \"\"\"\n",
        "    # Patrón para verificar números de teléfono\n",
        "    patron_telefono = r'\\b\\d{3}-\\d{3}-\\d{4}\\b'\n",
        "\n",
        "    # Patrón para verificar direcciones de correo electrónico\n",
        "    patron_correo = r'\\b[A-Za-z0-9._%+-]+@[A-Za-z0-9.-]+\\.[A-Z|a-z]{2,}\\b'\n",
        "\n",
        "    # Patrón para verificar códigos postales (formato de 5 dígitos)\n",
        "    patron_codigo_postal = r'\\b\\d{5}\\b'\n",
        "\n",
        "    # Buscar números de teléfono en el texto\n",
        "    telefonos = re.findall(patron_telefono, texto)\n",
        "\n",
        "    # Buscar direcciones de correo electrónico en el texto\n",
        "    correos = re.findall(patron_correo, texto)\n",
        "\n",
        "    # Buscar códigos postales en el texto\n",
        "    codigos_postales = re.findall(patron_codigo_postal, texto)\n",
        "\n",
        "    return telefonos, correos, codigos_postales\n",
        "\n",
        "# Texto de ejemplo para verificar\n",
        "texto_ejemplo = \"\"\"\n",
        "Mi número de teléfono es 123-456-7890 y mi correo es ejemplo@gmail.com.\n",
        "Vivo en la calle 1234 y mi código postal es 12345.\n",
        "Puedes llamarme al 555-123-4567 o escribirme a otroejemplo@hotmail.com.\n",
        "\"\"\"\n",
        "\n",
        "# Verificar el texto de ejemplo\n",
        "telefonos, correos, codigos_postales = verificar_texto(texto_ejemplo)\n",
        "\n",
        "# Mostrar los resultados\n",
        "print(\"Números de teléfono encontrados:\", telefonos)\n",
        "print(\"Direcciones de correo electrónico encontradas:\", correos)\n",
        "print(\"Códigos postales encontrados:\", codigos_postales)"
      ]
    },
    {
      "cell_type": "markdown",
      "metadata": {
        "id": "ySHv_M1dXRqB"
      },
      "source": [
        "### Búsqueda de patrones específicos en un texto\n",
        "\n",
        "Encontrar palabras clave, fechas, direcciones."
      ]
    },
    {
      "cell_type": "code",
      "execution_count": 24,
      "metadata": {
        "colab": {
          "base_uri": "https://localhost:8080/"
        },
        "id": "q52y2ZKnX9-J",
        "outputId": "f05dd0c3-668b-4345-f043-c7976d2cdbbe"
      },
      "outputs": [
        {
          "name": "stdout",
          "output_type": "stream",
          "text": [
            "Palabras clave encontradas: ['importante', 'urgente', 'crítico']\n",
            "Fechas encontradas: ['15/02/2024']\n",
            "Direcciones encontradas: ['calle', 'avenida']\n"
          ]
        }
      ],
      "source": [
        "# Importar la librería requerida\n",
        "import re\n",
        "\n",
        "def encontrar_informacion(texto):\n",
        "    \"\"\"Encuentra palabras clave, fechas y direcciones en un texto.\n",
        "\n",
        "    Args:\n",
        "        texto (str): El texto en el que se buscarán los patrones.\n",
        "\n",
        "    Returns:\n",
        "        tuple: Una tupla que contiene listas de palabras clave, fechas y\n",
        "        direcciones encontradas en el texto, respectivamente.\n",
        "    \"\"\"\n",
        "    # Patrón para buscar palabras clave (ejemplo: \"importante\", \"urgente\",\n",
        "    # \"importante\", etc.)\n",
        "    patron_palabra_clave = r'\\b(importante|urgente|crítico)\\b'\n",
        "\n",
        "    # Patrón para buscar fechas en formato dd/mm/yyyy\n",
        "    patron_fecha = r'\\b(\\d{1,2}/\\d{1,2}/\\d{4})\\b'\n",
        "\n",
        "    # Patrón para buscar direcciones (ejemplo: \"calle 123\", \"avenida principal\",\n",
        "    # \"plaza central\", etc.)\n",
        "    patron_direccion = r'\\b(calle|avenida|plaza)\\s[A-Za-z]+\\s\\d+\\b'\n",
        "\n",
        "    # Buscar palabras clave en el texto\n",
        "    palabras_clave = re.findall(patron_palabra_clave, texto)\n",
        "\n",
        "    # Buscar fechas en el texto\n",
        "    fechas = re.findall(patron_fecha, texto)\n",
        "\n",
        "    # Buscar direcciones en el texto\n",
        "    direcciones = re.findall(patron_direccion, texto)\n",
        "\n",
        "    return palabras_clave, fechas, direcciones\n",
        "\n",
        "# Texto de ejemplo para verificar\n",
        "texto_ejemplo = \"\"\"\n",
        "La reunión es muy importante y urgente. Se llevará a cabo el 15/02/2024 en la\n",
        "calle principal 123. No olvides traer el informe crítico. La dirección es\n",
        "avenida central 456. Nos vemos allí.\n",
        "\"\"\"\n",
        "\n",
        "# Encontrar información en el texto de ejemplo\n",
        "palabras_clave, fechas, direcciones = encontrar_informacion(texto_ejemplo)\n",
        "\n",
        "# Mostrar los resultados\n",
        "print(\"Palabras clave encontradas:\", palabras_clave)\n",
        "print(\"Fechas encontradas:\", fechas)\n",
        "print(\"Direcciones encontradas:\", direcciones)"
      ]
    },
    {
      "cell_type": "markdown",
      "metadata": {
        "id": "3sg9cF80XfHC"
      },
      "source": [
        "### Filtrado y limpieza de datos en conjuntos de texto grandes"
      ]
    },
    {
      "cell_type": "code",
      "execution_count": 34,
      "metadata": {
        "colab": {
          "base_uri": "https://localhost:8080/"
        },
        "id": "Bp-XO5CoiGgp",
        "outputId": "fadf465e-282e-4b4a-fcb1-e55ccbec171a"
      },
      "outputs": [
        {
          "name": "stdout",
          "output_type": "stream",
          "text": [
            "Texto limpio:\n",
            "en lugar mancha cuyo nombre no quiero acordarme no ha mucho tiempo que viva hidalgo lanza en astillero adarga antigua rocn flaco y galgo corredor\n"
          ]
        }
      ],
      "source": [
        "# Importar la librería requerida\n",
        "import re\n",
        "\n",
        "def limpiar_texto(texto):\n",
        "    \"\"\"Filtra y limpia un texto eliminando caracteres no deseados y\n",
        "    palabras comunes.\n",
        "\n",
        "    Args:\n",
        "        texto (str): El texto que se va a limpiar.\n",
        "\n",
        "    Returns:\n",
        "        str: El texto limpio.\n",
        "    \"\"\"\n",
        "    # Convertir todo el texto a minúsculas\n",
        "    texto = texto.lower()\n",
        "\n",
        "    # Eliminar caracteres no alfabéticos excepto espacios\n",
        "    texto = re.sub(r'[^a-z\\s]', '', texto)\n",
        "\n",
        "    # Eliminar palabras comunes que no aportan significado\n",
        "    palabras_inutiles = {'el', 'la', 'los', 'las', 'un', 'una', 'unos', 'unas',\n",
        "                         'de', 'del', 'al', 'con', 'para', 'por', 'sobre',\n",
        "                         'entre', 'hacia'}\n",
        "\n",
        "    # Dividir el texto en palabras\n",
        "    palabras = texto.split()\n",
        "\n",
        "    # Crear una lista para almacenar las palabras filtradas\n",
        "    palabras_filtradas = []\n",
        "\n",
        "    # Filtrar palabras comunes\n",
        "    for palabra in palabras:\n",
        "        if palabra not in palabras_inutiles:\n",
        "          palabras_filtradas.append(palabra)\n",
        "\n",
        "    # Reconstruir el texto limpio\n",
        "    texto_limpio = ' '.join(palabras_filtradas)\n",
        "\n",
        "    return texto_limpio\n",
        "\n",
        "# Texto de ejemplo\n",
        "texto_ejemplo = \"\"\"\n",
        "En un lugar de la Mancha, de cuyo nombre no quiero acordarme, no ha mucho tiempo\n",
        " que vivía un hidalgo de los de lanza en astillero, adarga antigua, rocín flaco\n",
        "  y galgo corredor.\n",
        "\"\"\"\n",
        "\n",
        "# Limpiar el texto de ejemplo\n",
        "texto_limpio = limpiar_texto(texto_ejemplo)\n",
        "\n",
        "# Mostrar el texto limpio\n",
        "print(\"Texto limpio:\")\n",
        "print(texto_limpio)\n"
      ]
    },
    {
      "cell_type": "markdown",
      "metadata": {
        "id": "hfp66KZgVdSA"
      },
      "source": [
        "# Ejercicios"
      ]
    },
    {
      "cell_type": "markdown",
      "metadata": {
        "id": "4kpeP548VfWv"
      },
      "source": [
        "## Ejercicio 00\n",
        "\n",
        "Validación de dirección de correo electrónico. Diseñar un programa que valide si una cadena ingresada por el usuario es una dirección de correo electrónico válida o no. La dirección de correo electrónico válida debe seguir el formato estándar de \"usuario@dominio.com\".\n",
        "\n",
        "   *Texto de referencia:* \"Por favor, envíe su solicitud a john.doe@example.com. Asegúrese de incluir su nombre completo y número de teléfono en el cuerpo del correo electrónico.\""
      ]
    },
    {
      "cell_type": "code",
      "execution_count": 15,
      "metadata": {
        "id": "n2v2uvLkZD0s"
      },
      "outputs": [
        {
          "name": "stdout",
          "output_type": "stream",
          "text": [
            "La dirección de correo electrónico no es válida.\n"
          ]
        }
      ],
      "source": [
        "import re\n",
        "\n",
        "def validar_correo(correo):\n",
        "    \"\"\"\n",
        "    Valida si una dirección de correo electrónico es válida utilizando una expresión regular.\n",
        "\n",
        "    Args:\n",
        "        correo (str): La dirección de correo electrónico a validar.\n",
        "\n",
        "    Returns:\n",
        "        bool: True si la dirección de correo electrónico es válida, False de lo contrario.\n",
        "    \"\"\"\n",
        "    # Patrón de expresión regular para validar la dirección de correo electrónico\n",
        "    patron = r'^[a-zA-Z0-9._%+-]+@[a-zA-Z0-9.-]+\\.[a-zA-Z]{2,}\\.[a-zA-Z]{2,}$'\n",
        "    # Utilizamos re.match para verificar si la cadena coincide con el patrón\n",
        "    if re.match(patron, correo):\n",
        "        return True\n",
        "    else:\n",
        "        return False\n",
        "\n",
        "# Solicitar al usuario que ingrese una dirección de correo electrónico\n",
        "direccion_correo = input(\"Ingrese una dirección de correo electrónico: \")\n",
        "\n",
        "# Validar la dirección de correo electrónico ingresada por el usuario\n",
        "if validar_correo(direccion_correo):\n",
        "    print(\"La dirección de correo electrónico es válida.\")\n",
        "else:\n",
        "    print(\"La dirección de correo electrónico no es válida.\")"
      ]
    },
    {
      "cell_type": "markdown",
      "metadata": {
        "id": "AWpJFnkfZE8X"
      },
      "source": [
        "## Ejercicio 01\n",
        "\n",
        "Extracción de números de teléfono. Escribir un programa que extraiga todos los números de teléfono válidos de un texto dado. Los números de teléfono válidos deben seguir el formato XXX-XXX-XXXX.\n",
        "\n",
        "   *Texto de referencia:* \"Puede comunicarse con nuestro servicio al cliente llamando al 555-123-4567. También puede enviar un mensaje de texto al número 555-987-6543 para obtener ayuda rápida.\"\n",
        "\n",
        "\n"
      ]
    },
    {
      "cell_type": "code",
      "execution_count": 16,
      "metadata": {
        "id": "nEHnjFNraLvf"
      },
      "outputs": [
        {
          "name": "stdout",
          "output_type": "stream",
          "text": [
            "Números de teléfono encontrados:\n",
            "555-123-4567\n",
            "555-987-6543\n"
          ]
        }
      ],
      "source": [
        "import re\n",
        "\n",
        "def extraer_numeros_telefono(texto):\n",
        "    \"\"\"\n",
        "    Extrae números de teléfono en formato XXX-XXX-XXXX del texto proporcionado.\n",
        "\n",
        "    Args:\n",
        "        texto (str): El texto del cual se deben extraer los números de teléfono.\n",
        "\n",
        "    Returns:\n",
        "        list: Una lista de números de teléfono encontrados en el texto.\n",
        "    \"\"\"\n",
        "\n",
        "    # Patrón de expresión regular para extraer números de teléfono en formato XXX-XXX-XXXX\n",
        "    patron = r'\\b\\d{3}-\\d{3}-\\d{4}\\b'\n",
        "    # Utilizamos re.findall para encontrar todas las coincidencias en el texto\n",
        "    numeros_telefono = re.findall(patron, texto)\n",
        "    return numeros_telefono\n",
        "\n",
        "# Texto de referencia\n",
        "texto_referencia = \"Puede comunicarse con nuestro servicio al cliente llamando al 555-123-4567. También puede enviar un mensaje de texto al número 555-987-6543 para obtener ayuda rápida.\"\n",
        "\n",
        "# Extraer números de teléfono del texto de referencia\n",
        "numeros_telefono_encontrados = extraer_numeros_telefono(texto_referencia)\n",
        "\n",
        "# Imprimir los números de teléfono encontrados\n",
        "print(\"Números de teléfono encontrados:\")\n",
        "for numero in numeros_telefono_encontrados:\n",
        "    print(numero)\n"
      ]
    },
    {
      "cell_type": "markdown",
      "metadata": {
        "id": "0hEyKcvlaM1p"
      },
      "source": [
        "## Ejercicio 02\n",
        "\n",
        "Búsqueda de fechas. Desarrolle un programa que identifique y extraiga todas las fechas válidas en un texto dado. Las fechas válidas deben estar en formato \"DD/MM/AAAA\".\n",
        "\n",
        "   *Texto de referencia:* \"La reunión está programada para el 15/02/2024. Por favor, confirme su asistencia antes de esa fecha. Recuerde que el plazo para enviar el informe es el 28/02/2024.\""
      ]
    },
    {
      "cell_type": "code",
      "execution_count": 17,
      "metadata": {
        "id": "yN0MvrQ4ao7v"
      },
      "outputs": [
        {
          "name": "stdout",
          "output_type": "stream",
          "text": [
            "Fechas encontradas:\n",
            "15/02/2024\n",
            "28/02/2024\n"
          ]
        }
      ],
      "source": [
        "import re\n",
        "\n",
        "def extraer_fechas(texto):\n",
        "    \"\"\"\n",
        "    Extrae fechas en formato DD/MM/YYYY del texto proporcionado utilizando expresiones regulares.\n",
        "\n",
        "    Args:\n",
        "        texto (str): El texto del cual se deben extraer las fechas.\n",
        "\n",
        "    Returns:\n",
        "        list: Una lista de fechas en formato DD/MM/YYYY encontradas en el texto.\n",
        "    \"\"\"\n",
        "\n",
        "    # Patrón de expresión regular para extraer fechas en formato DD/MM/AAAA\n",
        "    patron = r'\\b\\d{2}/\\d{2}/\\d{4}\\b'\n",
        "    # Utilizamos re.findall para encontrar todas las coincidencias en el texto\n",
        "    fechas = re.findall(patron, texto)\n",
        "    return fechas\n",
        "\n",
        "# Texto de referencia\n",
        "texto_referencia = \"La reunión está programada para el 15/02/2024. Por favor, confirme su asistencia antes de esa fecha. Recuerde que el plazo para enviar el informe es el 28/02/2024.\"\n",
        "\n",
        "# Extraer fechas del texto de referencia\n",
        "fechas_encontradas = extraer_fechas(texto_referencia)\n",
        "\n",
        "# Imprimir las fechas encontradas\n",
        "print(\"Fechas encontradas:\")\n",
        "for fecha in fechas_encontradas:\n",
        "    print(fecha)\n"
      ]
    },
    {
      "cell_type": "markdown",
      "metadata": {
        "id": "qj50yF_aP_yM"
      },
      "source": [
        "## Ejercicio 03\n",
        "\n",
        "Validación de contraseñas seguras. Cree un programa que valide si una contraseña ingresada por el usuario es segura o no. Una contraseña segura debe tener al menos ocho caracteres de longitud y contener al menos una letra mayúscula, una letra minúscula, un número y un carácter especial.\n",
        "\n",
        "   *Texto de referencia:* \"Su contraseña debe tener al menos 10 caracteres de longitud y contener al menos una letra mayúscula, una letra minúscula, un número y un carácter especial. Por favor, elija una contraseña segura.\""
      ]
    },
    {
      "cell_type": "code",
      "execution_count": 20,
      "metadata": {
        "id": "YDbBS606QSxx"
      },
      "outputs": [
        {
          "name": "stdout",
          "output_type": "stream",
          "text": [
            "La contraseña es segura.\n"
          ]
        }
      ],
      "source": [
        "import re\n",
        "\n",
        "def validar_contrasena(contrasena):\n",
        "    \"\"\"\n",
        "    Valida si una contraseña cumple con los siguientes requisitos:\n",
        "    - Tiene una longitud mínima de 8 caracteres.\n",
        "    - Contiene al menos una letra mayúscula.\n",
        "    - Contiene al menos una letra minúscula.\n",
        "    - Contiene al menos un número.\n",
        "    - Contiene al menos un carácter especial.\n",
        "    \n",
        "    Args:\n",
        "        contrasena (str): La contraseña a validar.\n",
        "    \n",
        "    Returns:\n",
        "        bool: True si la contraseña cumple con los requisitos, False en caso contrario.\n",
        "    \"\"\"\n",
        "    # Verificar la longitud de la contraseña\n",
        "    if len(contrasena) < 8:\n",
        "        return False\n",
        "    \n",
        "    # Verificar si contiene al menos una letra mayúscula\n",
        "    if not re.search(\"[A-Z]\", contrasena):\n",
        "        return False\n",
        "    \n",
        "    # Verificar si contiene al menos una letra minúscula\n",
        "    if not re.search(\"[a-z]\", contrasena):\n",
        "        return False\n",
        "    \n",
        "    # Verificar si contiene al menos un número\n",
        "    if not re.search(\"[0-9]\", contrasena):\n",
        "        return False\n",
        "    \n",
        "    # Verificar si contiene al menos un carácter especial\n",
        "    if not re.search(\"[!@#$%^&*()-+]\", contrasena):\n",
        "        return False\n",
        "    \n",
        "    return True\n",
        "\n",
        "# Texto de referencia\n",
        "texto_referencia = \"Su contraseña debe tener al menos 10 caracteres de longitud y contener al menos una letra mayúscula, una letra minúscula, un número y un carácter especial. Por favor, elija una contraseña segura.\"\n",
        "\n",
        "# Solicitar al usuario que ingrese una contraseña\n",
        "contrasena_ingresada = input(\"Ingrese su contraseña: \")\n",
        "\n",
        "# Validar la contraseña ingresada por el usuario\n",
        "if validar_contrasena(contrasena_ingresada):\n",
        "    print(\"La contraseña es segura.\")\n",
        "else:\n",
        "    print(\"La contraseña no cumple con los criterios de seguridad.\")\n"
      ]
    },
    {
      "cell_type": "markdown",
      "metadata": {
        "id": "4852xGV9QBaQ"
      },
      "source": [
        "## Ejercicio 04\n",
        "\n",
        "Extracción de URLs. Escriba un programa que extraiga todas las URLs válidas de un texto dado. Las URLs válidas deben comenzar con \"http://\" o \"https://\".\n",
        "\n",
        "   *Texto de referencia:* \"Visite nuestro sitio web en https://www.ejemplo.com para obtener más información sobre nuestros productos y servicios. También puede seguirnos en Twitter en https://twitter.com/ejemplo.\""
      ]
    },
    {
      "cell_type": "code",
      "execution_count": null,
      "metadata": {
        "id": "xNrof7kmQUED"
      },
      "outputs": [],
      "source": [
        "import re\n",
        "\n",
        "def extraer_urls(texto):\n",
        "    \"\"\"\n",
        "    Extrae URLs válidas del texto proporcionado utilizando expresiones regulares.\n",
        "\n",
        "    Args:\n",
        "        texto (str): El texto del cual se deben extraer las URLs.\n",
        "\n",
        "    Returns:\n",
        "        list: Una lista de URLs válidas encontradas en el texto.\n",
        "    \"\"\"\n",
        "\n",
        "    # Patrón de expresión regular para extraer URLs válidas\n",
        "    patron = r'https?://\\S+'\n",
        "    # Utilizamos re.findall para encontrar todas las coincidencias en el texto\n",
        "    urls = re.findall(patron, texto)\n",
        "    return urls\n",
        "\n",
        "# Texto de referencia\n",
        "texto_referencia = \"Visite nuestro sitio web en https://www.ejemplo.com para obtener más información sobre nuestros productos y servicios. También puede seguirnos en Twitter en https://twitter.com/ejemplo.\"\n",
        "\n",
        "# Extraer URLs del texto de referencia\n",
        "urls_encontradas = extraer_urls(texto_referencia)\n",
        "\n",
        "# Imprimir las URLs encontradas\n",
        "print(\"URLs encontradas:\")\n",
        "for url in urls_encontradas:\n",
        "    print(url)\n"
      ]
    },
    {
      "cell_type": "markdown",
      "metadata": {
        "id": "ztj4sS1hQDtc"
      },
      "source": [
        "## Ejercicio 05\n",
        "\n",
        "Conteo de palabras. Diseñe un programa que cuente cuántas veces aparece una palabra específica en un texto dado. La búsqueda no debe diferenciar mayúsculas ni minúsculas. Es decir que «casa»\n",
        "y «Casa» deben ser consideradas la misma palabra.\n",
        "\n",
        "  *Texto de referencia:* \"La conferencia comenzará a las nueve de la mañana. Por favor, llegue temprano para registrarse. La duración de cada sesión será de una hora.\""
      ]
    },
    {
      "cell_type": "code",
      "execution_count": null,
      "metadata": {
        "id": "jg0TczRIQVsk"
      },
      "outputs": [],
      "source": [
        "def contar_palabra(texto, palabra_buscada):\n",
        "    \"\"\"\n",
        "    Cuenta el número de veces que una palabra aparece en un texto.\n",
        "\n",
        "    Args:\n",
        "        texto (str): El texto en el que se buscará la palabra.\n",
        "        palabra_buscada (str): La palabra que se desea contar.\n",
        "\n",
        "    Returns:\n",
        "        int: El número de veces que la palabra aparece en el texto.\n",
        "    \"\"\"\n",
        "    # Convertir el texto y la palabra buscada a minúsculas para evitar la diferenciación de mayúsculas y minúsculas\n",
        "    texto = texto.lower()\n",
        "    palabra_buscada = palabra_buscada.lower()\n",
        "    # Dividir el texto en palabras utilizando split()\n",
        "    palabras = texto.split()\n",
        "    # Inicializar el contador de apariciones de la palabra buscada\n",
        "    contador = 0\n",
        "    # Iterar sobre cada palabra en el texto\n",
        "    for palabra in palabras:\n",
        "        # Si la palabra coincide con la palabra buscada, aumentar el contador\n",
        "        if palabra == palabra_buscada:\n",
        "            contador += 1\n",
        "    return contador\n",
        "\n",
        "# Texto de referencia\n",
        "texto_referencia = \"La conferencia comenzará a las nueve de la mañana. Por favor, llegue temprano para registrarse. La duración de cada sesión será de una hora.\"\n",
        "\n",
        "# Palabra a buscar\n",
        "palabra_buscada = \"mañana\"\n",
        "\n",
        "# Contar cuántas veces aparece la palabra buscada en el texto\n",
        "apariciones = contar_palabra(texto_referencia, palabra_buscada)\n",
        "\n",
        "# Imprimir el resultado\n",
        "print(f\"La palabra '{palabra_buscada}' aparece {apariciones} veces en el texto.\")\n"
      ]
    },
    {
      "cell_type": "markdown",
      "metadata": {
        "id": "hATd-LMUQGP_"
      },
      "source": [
        "## Ejercicio 06\n",
        "\n",
        "Reemplazo de palabras. Cree un programa que reemplace todas las ocurrencias de una palabra específica por otra en un texto dado. El usuario debe ingresar la palabra a buscar y la palabra de reemplazo.\n",
        "\n",
        "   *Texto de referencia:* \"La comida vegetariana es una excelente opción para mantenerse saludable. Por favor, asegúrese de incluir una variedad de vegetales en su dieta diaria.\""
      ]
    },
    {
      "cell_type": "code",
      "execution_count": null,
      "metadata": {
        "id": "KWFwRqE7QX0H"
      },
      "outputs": [],
      "source": [
        "def reemplazar_palabra(texto, palabra_buscada, palabra_reemplazo):\n",
        "    \"\"\"\n",
        "    Reemplaza todas las ocurrencias de una palabra en un texto con otra palabra.\n",
        "\n",
        "    Args:\n",
        "        texto (str): El texto en el que se realizará el reemplazo.\n",
        "        palabra_buscada (str): La palabra que se desea reemplazar.\n",
        "        palabra_reemplazo (str): La palabra que se utilizará como reemplazo.\n",
        "\n",
        "    Returns:\n",
        "        str: El texto modificado con las palabras reemplazadas.\n",
        "    \"\"\"\n",
        "    texto_modificado = texto.replace(palabra_buscada, palabra_reemplazo)\n",
        "    return texto_modificado\n",
        "\n",
        "# Texto de referencia\n",
        "texto_referencia = \"La comida vegetariana es una excelente opción para mantenerse saludable. Por favor, asegúrese de incluir una variedad de vegetales en su dieta diaria.\"\n",
        "\n",
        "# Solicitar al usuario que ingrese la palabra a buscar y la palabra de reemplazo\n",
        "palabra_buscada = input(\"Ingrese la palabra a buscar: \")\n",
        "palabra_reemplazo = input(\"Ingrese la palabra de reemplazo: \")\n",
        "\n",
        "# Reemplazar todas las ocurrencias de la palabra buscada por la palabra de reemplazo en el texto de referencia\n",
        "texto_modificado = reemplazar_palabra(texto_referencia, palabra_buscada, palabra_reemplazo)\n",
        "\n",
        "# Imprimir el texto modificado\n",
        "print(\"Texto modificado:\")\n",
        "print(texto_modificado)\n"
      ]
    },
    {
      "cell_type": "markdown",
      "metadata": {
        "id": "ZNOMGOKfQHkc"
      },
      "source": [
        "## Ejercicio 07\n",
        "\n",
        "Validación de código postal. Desarrolle un programa que valide si un código postal ingresado por el usuario es válido o no. El código postal válido debe tener un formato específico, como \"XXXXX\" o \"XXXXX-XXXX\".\n",
        "\n",
        "   *Texto de referencia:* \"Nuestra dirección es 12345 Main Street, Anytown, USA. El código postal es 54321-6789. Asegúrese de incluir el código postal correcto al completar el formulario.\""
      ]
    },
    {
      "cell_type": "code",
      "execution_count": null,
      "metadata": {
        "id": "EFyBSu0OQZ5X"
      },
      "outputs": [],
      "source": [
        "import re\n",
        "\n",
        "def validar_codigo_postal(codigo_postal):\n",
        "    \"\"\"\n",
        "    Valida un código postal utilizando una expresión regular.\n",
        "\n",
        "    Args:\n",
        "        codigo_postal (str): El código postal a validar.\n",
        "\n",
        "    Returns:\n",
        "        bool: True si el código postal es válido, False en caso contrario.\n",
        "    \"\"\"\n",
        "    # Patrón de expresión regular para validar el código postal\n",
        "    patron = r'^\\d{5}(-\\d{4})?$'\n",
        "    # Utilizamos re.match para verificar si la cadena coincide con el patrón\n",
        "    if re.match(patron, codigo_postal):\n",
        "        return True\n",
        "    else:\n",
        "        return False\n",
        "\n",
        "# Texto de referencia\n",
        "texto_referencia = \"Nuestra dirección es 12345 Main Street, Anytown, USA. El código postal es 54321-6789. Asegúrese de incluir el código postal correcto al completar el formulario.\"\n",
        "\n",
        "# Extraer códigos postales del texto de referencia\n",
        "codigos_postales_encontrados = re.findall(r'\\b\\d{5}(?:-\\d{4})?\\b', texto_referencia)\n",
        "\n",
        "# Imprimir los códigos postales encontrados\n",
        "print(\"Códigos postales encontrados:\")\n",
        "for cp in codigos_postales_encontrados:\n",
        "    if validar_codigo_postal(cp):\n",
        "        print(cp + \" es un código postal válido.\")\n",
        "    else:\n",
        "        print(cp + \" no es un código postal válido.\")\n"
      ]
    },
    {
      "cell_type": "markdown",
      "metadata": {
        "id": "k1SR_Y-RQJC1"
      },
      "source": [
        "## Ejercicio 08\n",
        "\n",
        "Extracción de direcciones IP. Escriba un programa que extraiga todas las direcciones IP válidas de un texto dado. Las direcciones IP válidas deben seguir el formato \"XXX.XXX.XXX.XXX\", donde cada parte puede tener uno, dos o tres dígitos.\n",
        "\n",
        "   *Texto de referencia:* \"La dirección IP de nuestro servidor es 192.168.1.1. Asegúrese de configurar correctamente la dirección IP en su dispositivo para accedera la red”"
      ]
    },
    {
      "cell_type": "code",
      "execution_count": null,
      "metadata": {
        "id": "1Wky-Hp7Qa1P"
      },
      "outputs": [],
      "source": [
        "import re\n",
        "\n",
        "def extraer_direcciones_ip(texto):\n",
        "    \"\"\"\n",
        "    Extrae direcciones IP válidas del texto dado.\n",
        "\n",
        "    Args:\n",
        "        texto (str): El texto en el que buscar direcciones IP.\n",
        "\n",
        "    Returns:\n",
        "        list: Una lista de direcciones IP válidas encontradas en el texto.\n",
        "    \"\"\"\n",
        "\n",
        "    # Patrón de expresión regular para extraer direcciones IP válidas\n",
        "    patron = r'\\b(?:\\d{1,3}\\.){3}\\d{1,3}\\b'\n",
        "    # Utilizamos re.findall para encontrar todas las coincidencias en el texto\n",
        "    direcciones_ip = re.findall(patron, texto)\n",
        "    return direcciones_ip\n",
        "\n",
        "# Texto de referencia\n",
        "texto_referencia = \"La dirección IP de nuestro servidor es 192.168.1.1. Asegúrese de configurar correctamente la dirección IP en su dispositivo para acceder a la red.\"\n",
        "\n",
        "# Extraer direcciones IP del texto de referencia\n",
        "direcciones_ip_encontradas = extraer_direcciones_ip(texto_referencia)\n",
        "\n",
        "# Imprimir las direcciones IP encontradas\n",
        "print(\"Direcciones IP encontradas:\")\n",
        "for ip in direcciones_ip_encontradas:\n",
        "    print(ip)\n"
      ]
    },
    {
      "cell_type": "markdown",
      "metadata": {
        "id": "VlxrpT47QKdX"
      },
      "source": [
        "## Ejercicio 09\n",
        "\n",
        "Búsqueda de hashtags. Diseñe un programa que identifique y extraiga todos los hashtags de un texto dado. Los hashtags deben comenzar con el símbolo \"#\" y pueden contener letras, números y guiones bajos.\n",
        "\n",
        "Texto de referencia: \"Únase a la conversación en las redes sociales utilizando el hashtag #ejemplo. Comparta sus experiencias y obtenga actualizaciones sobre nuestros últimos productos y promociones.\""
      ]
    },
    {
      "cell_type": "code",
      "execution_count": null,
      "metadata": {
        "id": "lwx5c9ecQeTD"
      },
      "outputs": [],
      "source": [
        "import re\n",
        "\n",
        "def extraer_hashtags(texto):\n",
        "    \"\"\"\n",
        "    Extrae hashtags de un texto dado.\n",
        "\n",
        "    Parámetros:\n",
        "    texto (str): El texto del cual extraer los hashtags.\n",
        "\n",
        "    Returns:\n",
        "    list: Una lista de hashtags encontrados en el texto.\n",
        "    \"\"\"\n",
        "    \n",
        "    # Patrón de expresión regular para extraer hashtags\n",
        "    patron = r'#\\w+'\n",
        "    # Utilizamos re.findall para encontrar todas las coincidencias en el texto\n",
        "    hashtags = re.findall(patron, texto)\n",
        "    return hashtags\n",
        "\n",
        "# Texto de referencia\n",
        "texto_referencia = \"Únase a la conversación en las redes sociales utilizando el hashtag #ejemplo. Comparta sus experiencias y obtenga actualizaciones sobre nuestros últimos productos y promociones.\"\n",
        "\n",
        "# Extraer hashtags del texto de referencia\n",
        "hashtags_encontrados = extraer_hashtags(texto_referencia)\n",
        "\n",
        "# Imprimir los hashtags encontrados\n",
        "print(\"Hashtags encontrados:\")\n",
        "for hashtag in hashtags_encontrados:\n",
        "    print(hashtag)\n"
      ]
    }
  ],
  "metadata": {
    "colab": {
      "include_colab_link": true,
      "provenance": []
    },
    "kernelspec": {
      "display_name": "Python 3",
      "name": "python3"
    },
    "language_info": {
      "codemirror_mode": {
        "name": "ipython",
        "version": 3
      },
      "file_extension": ".py",
      "mimetype": "text/x-python",
      "name": "python",
      "nbconvert_exporter": "python",
      "pygments_lexer": "ipython3",
      "version": "3.11.1"
    }
  },
  "nbformat": 4,
  "nbformat_minor": 0
}
